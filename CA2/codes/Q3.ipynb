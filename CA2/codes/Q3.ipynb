{
  "nbformat": 4,
  "nbformat_minor": 0,
  "metadata": {
    "colab": {
      "provenance": [],
      "gpuType": "T4"
    },
    "kernelspec": {
      "name": "python3",
      "display_name": "Python 3"
    },
    "language_info": {
      "name": "python"
    },
    "accelerator": "GPU"
  },
  "cells": [
    {
      "cell_type": "markdown",
      "source": [
        "# Import Libraries"
      ],
      "metadata": {
        "id": "7MrxK2HRGmIM"
      }
    },
    {
      "cell_type": "code",
      "source": [
        "import numpy as np\n",
        "import matplotlib.pyplot as plt\n",
        "import tensorflow as tf\n",
        "from tensorflow.keras import layers\n",
        "from keras.preprocessing.text import *\n",
        "from sklearn.decomposition import PCA\n",
        "\n",
        "import tqdm\n",
        "import re\n",
        "import string"
      ],
      "metadata": {
        "id": "cv6X-xgvN9f2"
      },
      "execution_count": 1,
      "outputs": []
    },
    {
      "cell_type": "markdown",
      "source": [
        "# Load Data"
      ],
      "metadata": {
        "id": "6_DwV65VGZD2"
      }
    },
    {
      "cell_type": "code",
      "execution_count": 2,
      "metadata": {
        "id": "lblOBjnCMBf_"
      },
      "outputs": [],
      "source": [
        "url_path = 'https://sherlock-holm.es/stories/plain-text/advs.txt'"
      ]
    },
    {
      "cell_type": "code",
      "source": [
        "path_to_file = tf.keras.utils.get_file('shakespeare.txt', url_path)\n",
        "text_ds = tf.data.TextLineDataset(path_to_file).filter(lambda x: tf.cast(tf.strings.length(x), bool))"
      ],
      "metadata": {
        "colab": {
          "base_uri": "https://localhost:8080/"
        },
        "id": "7d_6zNaFM8sl",
        "outputId": "c091b6a1-25ab-4982-9dbf-3c991a1df3dd"
      },
      "execution_count": 3,
      "outputs": [
        {
          "output_type": "stream",
          "name": "stdout",
          "text": [
            "Downloading data from https://sherlock-holm.es/stories/plain-text/advs.txt\n",
            "610921/610921 [==============================] - 1s 1us/step\n"
          ]
        }
      ]
    },
    {
      "cell_type": "code",
      "source": [
        "# put all text line in a list\n",
        "text_list = []\n",
        "for text in text_ds.as_numpy_iterator():\n",
        "  text_list.append(text.strip().decode('utf-8'))"
      ],
      "metadata": {
        "id": "80_pTT02P3xU"
      },
      "execution_count": 4,
      "outputs": []
    },
    {
      "cell_type": "markdown",
      "source": [
        "# Section 1"
      ],
      "metadata": {
        "id": "Tg8ioP5nZZKb"
      }
    },
    {
      "cell_type": "markdown",
      "source": [
        "## Preprocessing"
      ],
      "metadata": {
        "id": "g_emad6YGcBI"
      }
    },
    {
      "cell_type": "code",
      "source": [
        "def preprocessing(text):\n",
        "    # make text lowercase\n",
        "    text = str(text).lower()\n",
        "\n",
        "    # remove punctuations\n",
        "    english_punctuations = string.punctuation\n",
        "    translator = str.maketrans('', '', english_punctuations)\n",
        "    return text.translate(translator)"
      ],
      "metadata": {
        "id": "7qnuUck3YIEo"
      },
      "execution_count": 5,
      "outputs": []
    },
    {
      "cell_type": "code",
      "source": [
        "preprocessed_text_list = [preprocessing(text) for text in text_list]"
      ],
      "metadata": {
        "id": "TjdN-xv8btaC"
      },
      "execution_count": 6,
      "outputs": []
    },
    {
      "cell_type": "code",
      "source": [
        "# save all words in corpus list\n",
        "corpus = []\n",
        "for text in preprocessed_text_list:\n",
        "  corpus.extend(text.split())"
      ],
      "metadata": {
        "id": "TaaKNIeecD8q"
      },
      "execution_count": 7,
      "outputs": []
    },
    {
      "cell_type": "markdown",
      "source": [
        "## Generate samples of skipgram"
      ],
      "metadata": {
        "id": "TNxUNojPLtvT"
      }
    },
    {
      "cell_type": "code",
      "source": [
        "tokenizer = Tokenizer()\n",
        "tokenizer.fit_on_texts(corpus)\n",
        "word2id = tokenizer.word_index"
      ],
      "metadata": {
        "id": "65EQDrJPtA4R"
      },
      "execution_count": 8,
      "outputs": []
    },
    {
      "cell_type": "code",
      "source": [
        "# convert all words in corpus to id\n",
        "wids = [word2id[w] for w in corpus]"
      ],
      "metadata": {
        "id": "aXPTAMNYtJch"
      },
      "execution_count": 9,
      "outputs": []
    },
    {
      "cell_type": "code",
      "source": [
        "vocab_size = len(word2id) + 1\n",
        "vocab_size"
      ],
      "metadata": {
        "colab": {
          "base_uri": "https://localhost:8080/"
        },
        "id": "mfikuWDM4sxY",
        "outputId": "f5d9877c-ad18-493e-d1b1-26a67f793fc8"
      },
      "execution_count": 10,
      "outputs": [
        {
          "output_type": "execute_result",
          "data": {
            "text/plain": [
              "8427"
            ]
          },
          "metadata": {},
          "execution_count": 10
        }
      ]
    },
    {
      "cell_type": "code",
      "source": [
        "num_ns = 4\n",
        "pairs, labels = tf.keras.preprocessing.sequence.skipgrams(wids, vocabulary_size=vocab_size,\n",
        "    window_size=4, negative_samples=num_ns, shuffle=True,\n",
        "    categorical=False, sampling_table=None)"
      ],
      "metadata": {
        "id": "vAJjyrUbpkPJ"
      },
      "execution_count": 11,
      "outputs": []
    },
    {
      "cell_type": "code",
      "source": [
        "labels[:10]"
      ],
      "metadata": {
        "colab": {
          "base_uri": "https://localhost:8080/"
        },
        "id": "pUT0ZBB2spsn",
        "outputId": "1d9ccb3b-b243-4861-ea86-69715c8bc538"
      },
      "execution_count": 12,
      "outputs": [
        {
          "output_type": "execute_result",
          "data": {
            "text/plain": [
              "[1, 1, 1, 0, 1, 0, 0, 1, 1, 0]"
            ]
          },
          "metadata": {},
          "execution_count": 12
        }
      ]
    },
    {
      "cell_type": "code",
      "source": [
        "pairs[:10]"
      ],
      "metadata": {
        "colab": {
          "base_uri": "https://localhost:8080/"
        },
        "id": "7hBcvMZisMjV",
        "outputId": "3619782e-5be8-4a9d-cc46-440bf550c8f3"
      },
      "execution_count": 13,
      "outputs": [
        {
          "output_type": "execute_result",
          "data": {
            "text/plain": [
              "[[42, 21],\n",
              " [26, 12],\n",
              " [3216, 2087],\n",
              " [311, 4692],\n",
              " [2, 5544],\n",
              " [3267, 1213],\n",
              " [36, 7642],\n",
              " [398, 276],\n",
              " [4, 1515],\n",
              " [78, 4474]]"
            ]
          },
          "metadata": {},
          "execution_count": 13
        }
      ]
    },
    {
      "cell_type": "code",
      "source": [
        "len(pairs)"
      ],
      "metadata": {
        "colab": {
          "base_uri": "https://localhost:8080/"
        },
        "id": "DeYVbkhsEOBC",
        "outputId": "9cb059c8-5756-4dff-d164-7c2d231a1cdb"
      },
      "execution_count": 14,
      "outputs": [
        {
          "output_type": "execute_result",
          "data": {
            "text/plain": [
              "4180740"
            ]
          },
          "metadata": {},
          "execution_count": 14
        }
      ]
    },
    {
      "cell_type": "code",
      "source": [
        "targets = [row[0] for row in pairs]\n",
        "contexts = [row[1] for row in pairs]\n",
        "\n",
        "targets = np.array(targets)\n",
        "contexts = np.array(contexts)\n",
        "labels = np.array(labels)"
      ],
      "metadata": {
        "id": "SuU9SEIFwTVG"
      },
      "execution_count": 15,
      "outputs": []
    },
    {
      "cell_type": "code",
      "source": [
        "BATCH_SIZE = 1024\n",
        "BUFFER_SIZE = 10000\n",
        "\n",
        "# create dataset\n",
        "dataset = tf.data.Dataset.from_tensor_slices(((targets, contexts), labels))\n",
        "dataset = dataset.shuffle(BUFFER_SIZE).batch(BATCH_SIZE, drop_remainder=True)"
      ],
      "metadata": {
        "id": "R-Wj7-QzppQ9"
      },
      "execution_count": 16,
      "outputs": []
    },
    {
      "cell_type": "markdown",
      "source": [
        "## Model"
      ],
      "metadata": {
        "id": "_IhwiurGxtXf"
      }
    },
    {
      "cell_type": "code",
      "source": [
        "class Word2Vec(tf.keras.Model):\n",
        "  def __init__(self, vocab_size, embedding_dim):\n",
        "    super(Word2Vec, self).__init__()\n",
        "    self.target_embedding = layers.Embedding(vocab_size,\n",
        "                                      embedding_dim,\n",
        "                                      input_length=1,\n",
        "                                      name=\"target_embedding\")\n",
        "    self.context_embedding = layers.Embedding(vocab_size,\n",
        "                                       embedding_dim,\n",
        "                                       input_length=1,\n",
        "                                       name=\"context_embedding\")\n",
        "    self.dense_1 = layers.Dense(1, activation=\"sigmoid\")\n",
        "\n",
        "  def call(self, pair):\n",
        "    target = pair[0]\n",
        "    context = pair[1]\n",
        "\n",
        "    word_emb = self.target_embedding(target)\n",
        "    context_emb = self.context_embedding(context)\n",
        "\n",
        "    dots = layers.dot([word_emb, context_emb], axes=1, normalize=False)\n",
        "    output = self.dense_1(dots)\n",
        "\n",
        "    return output"
      ],
      "metadata": {
        "id": "B_aJw2hkqX9q"
      },
      "execution_count": 24,
      "outputs": []
    },
    {
      "cell_type": "code",
      "source": [
        "embedding_dim = 100\n",
        "word2vec = Word2Vec(vocab_size, embedding_dim)\n",
        "word2vec.compile(optimizer='nadam', loss='binary_crossentropy', metrics=['accuracy'])"
      ],
      "metadata": {
        "id": "OIcer_eqnk6e"
      },
      "execution_count": 25,
      "outputs": []
    },
    {
      "cell_type": "markdown",
      "source": [
        "## Train Model"
      ],
      "metadata": {
        "id": "KQ26X_RYGwNk"
      }
    },
    {
      "cell_type": "code",
      "source": [
        "word2vec.fit(dataset, epochs=30)"
      ],
      "metadata": {
        "colab": {
          "base_uri": "https://localhost:8080/"
        },
        "id": "K08EdbeKnnCC",
        "outputId": "c587d11b-dab0-4326-df74-7f87e322e3cf"
      },
      "execution_count": 26,
      "outputs": [
        {
          "output_type": "stream",
          "name": "stdout",
          "text": [
            "Epoch 1/30\n",
            "4082/4082 [==============================] - 62s 14ms/step - loss: 0.2701 - accuracy: 0.9091\n",
            "Epoch 2/30\n",
            "4082/4082 [==============================] - 26s 6ms/step - loss: 0.2279 - accuracy: 0.9175\n",
            "Epoch 3/30\n",
            "4082/4082 [==============================] - 26s 6ms/step - loss: 0.2097 - accuracy: 0.9216\n",
            "Epoch 4/30\n",
            "4082/4082 [==============================] - 26s 6ms/step - loss: 0.1866 - accuracy: 0.9270\n",
            "Epoch 5/30\n",
            "4082/4082 [==============================] - 25s 6ms/step - loss: 0.1655 - accuracy: 0.9334\n",
            "Epoch 6/30\n",
            "4082/4082 [==============================] - 27s 7ms/step - loss: 0.1517 - accuracy: 0.9384\n",
            "Epoch 7/30\n",
            "4082/4082 [==============================] - 24s 6ms/step - loss: 0.1440 - accuracy: 0.9412\n",
            "Epoch 8/30\n",
            "4082/4082 [==============================] - 24s 6ms/step - loss: 0.1396 - accuracy: 0.9428\n",
            "Epoch 9/30\n",
            "4082/4082 [==============================] - 25s 6ms/step - loss: 0.1368 - accuracy: 0.9437\n",
            "Epoch 10/30\n",
            "4082/4082 [==============================] - 27s 7ms/step - loss: 0.1348 - accuracy: 0.9442\n",
            "Epoch 11/30\n",
            "4082/4082 [==============================] - 24s 6ms/step - loss: 0.1332 - accuracy: 0.9446\n",
            "Epoch 12/30\n",
            "4082/4082 [==============================] - 24s 6ms/step - loss: 0.1320 - accuracy: 0.9448\n",
            "Epoch 13/30\n",
            "4082/4082 [==============================] - 25s 6ms/step - loss: 0.1309 - accuracy: 0.9450\n",
            "Epoch 14/30\n",
            "4082/4082 [==============================] - 24s 6ms/step - loss: 0.1300 - accuracy: 0.9452\n",
            "Epoch 15/30\n",
            "4082/4082 [==============================] - 24s 6ms/step - loss: 0.1293 - accuracy: 0.9453\n",
            "Epoch 16/30\n",
            "4082/4082 [==============================] - 23s 6ms/step - loss: 0.1286 - accuracy: 0.9455\n",
            "Epoch 17/30\n",
            "4082/4082 [==============================] - 27s 7ms/step - loss: 0.1279 - accuracy: 0.9456\n",
            "Epoch 18/30\n",
            "4082/4082 [==============================] - 25s 6ms/step - loss: 0.1273 - accuracy: 0.9457\n",
            "Epoch 19/30\n",
            "4082/4082 [==============================] - 23s 6ms/step - loss: 0.1268 - accuracy: 0.9458\n",
            "Epoch 20/30\n",
            "4082/4082 [==============================] - 25s 6ms/step - loss: 0.1263 - accuracy: 0.9458\n",
            "Epoch 21/30\n",
            "4082/4082 [==============================] - 25s 6ms/step - loss: 0.1259 - accuracy: 0.9459\n",
            "Epoch 22/30\n",
            "4082/4082 [==============================] - 22s 5ms/step - loss: 0.1255 - accuracy: 0.9460\n",
            "Epoch 23/30\n",
            "4082/4082 [==============================] - 27s 7ms/step - loss: 0.1251 - accuracy: 0.9460\n",
            "Epoch 24/30\n",
            "4082/4082 [==============================] - 24s 6ms/step - loss: 0.1247 - accuracy: 0.9461\n",
            "Epoch 25/30\n",
            "4082/4082 [==============================] - 25s 6ms/step - loss: 0.1244 - accuracy: 0.9462\n",
            "Epoch 26/30\n",
            "4082/4082 [==============================] - 24s 6ms/step - loss: 0.1240 - accuracy: 0.9462\n",
            "Epoch 27/30\n",
            "4082/4082 [==============================] - 28s 7ms/step - loss: 0.1237 - accuracy: 0.9463\n",
            "Epoch 28/30\n",
            "4082/4082 [==============================] - 24s 6ms/step - loss: 0.1234 - accuracy: 0.9463\n",
            "Epoch 29/30\n",
            "4082/4082 [==============================] - 23s 6ms/step - loss: 0.1232 - accuracy: 0.9464\n",
            "Epoch 30/30\n",
            "4082/4082 [==============================] - 23s 6ms/step - loss: 0.1229 - accuracy: 0.9464\n"
          ]
        },
        {
          "output_type": "execute_result",
          "data": {
            "text/plain": [
              "<keras.src.callbacks.History at 0x7c7cfeeafa90>"
            ]
          },
          "metadata": {},
          "execution_count": 26
        }
      ]
    },
    {
      "cell_type": "markdown",
      "source": [
        "## Get Embeddings and create word vectors"
      ],
      "metadata": {
        "id": "ordxtrshG0Do"
      }
    },
    {
      "cell_type": "code",
      "source": [
        "weights = word2vec.get_layer('target_embedding').get_weights()[0] + word2vec.get_layer('context_embedding').get_weights()[0]"
      ],
      "metadata": {
        "id": "SofzaiXzno26"
      },
      "execution_count": 27,
      "outputs": []
    },
    {
      "cell_type": "code",
      "source": [
        "weights.shape"
      ],
      "metadata": {
        "id": "atPi28uvn44Y",
        "colab": {
          "base_uri": "https://localhost:8080/"
        },
        "outputId": "be3e5d03-f898-4456-8166-9e43b648da0d"
      },
      "execution_count": 28,
      "outputs": [
        {
          "output_type": "execute_result",
          "data": {
            "text/plain": [
              "(8427, 100)"
            ]
          },
          "metadata": {},
          "execution_count": 28
        }
      ]
    },
    {
      "cell_type": "markdown",
      "source": [
        "# Section 2"
      ],
      "metadata": {
        "id": "M8W2KPc_HDh1"
      }
    },
    {
      "cell_type": "code",
      "source": [
        "result = weights[word2id['king']] - weights[word2id['man']] + weights[word2id['woman']]"
      ],
      "metadata": {
        "id": "umlBsThaoFgW"
      },
      "execution_count": 29,
      "outputs": []
    },
    {
      "cell_type": "code",
      "source": [
        "queen_vector = weights[word2id['queen']]"
      ],
      "metadata": {
        "id": "SIKkEoux6Tui"
      },
      "execution_count": 30,
      "outputs": []
    },
    {
      "cell_type": "code",
      "source": [
        "# similarity of two vectors\n",
        "dot_product_result = np.dot(queen_vector, result)"
      ],
      "metadata": {
        "id": "PpLbdzCL6XO3"
      },
      "execution_count": 31,
      "outputs": []
    },
    {
      "cell_type": "code",
      "source": [
        "# get probability\n",
        "sigmoid = 1/(1+np.exp(-dot_product_result))"
      ],
      "metadata": {
        "id": "j3ToWL2I6Y15"
      },
      "execution_count": 32,
      "outputs": []
    },
    {
      "cell_type": "code",
      "source": [
        "dot_product_result"
      ],
      "metadata": {
        "id": "k7gV7DxWBTPh",
        "colab": {
          "base_uri": "https://localhost:8080/"
        },
        "outputId": "46d247c2-2667-45ef-81fe-8998311b70c6"
      },
      "execution_count": 33,
      "outputs": [
        {
          "output_type": "execute_result",
          "data": {
            "text/plain": [
              "26.133629"
            ]
          },
          "metadata": {},
          "execution_count": 33
        }
      ]
    },
    {
      "cell_type": "code",
      "source": [
        "sigmoid"
      ],
      "metadata": {
        "id": "zNZiiTT2CEX4",
        "colab": {
          "base_uri": "https://localhost:8080/"
        },
        "outputId": "dbb22642-430c-4e12-dff2-0e199d16ce18"
      },
      "execution_count": 34,
      "outputs": [
        {
          "output_type": "execute_result",
          "data": {
            "text/plain": [
              "0.99999999999553"
            ]
          },
          "metadata": {},
          "execution_count": 34
        }
      ]
    },
    {
      "cell_type": "markdown",
      "source": [
        "# Section 3"
      ],
      "metadata": {
        "id": "U22hNapSCX7o"
      }
    },
    {
      "cell_type": "code",
      "source": [
        "pca = PCA(n_components=2)\n",
        "pca_result = pca.fit_transform(weights)"
      ],
      "metadata": {
        "id": "1x_ZT-z6J5G5"
      },
      "execution_count": 35,
      "outputs": []
    },
    {
      "cell_type": "code",
      "source": [
        "plt.figure(figsize=(8,6))\n",
        "plt.scatter(pca_result[:,0], pca_result[:,1])\n",
        "\n",
        "plt.xlabel(\"Principal Component 1\")\n",
        "plt.ylabel(\"Principal Component 2\")\n",
        "plt.title(\"PCA Scatter Plot of Word Vectors\")\n",
        "\n",
        "# Show the plot\n",
        "plt.show()"
      ],
      "metadata": {
        "id": "9uJ3WH8YP_Xu",
        "colab": {
          "base_uri": "https://localhost:8080/",
          "height": 564
        },
        "outputId": "57b8ef60-d9b5-4a4d-c32c-fcbf46690b3a"
      },
      "execution_count": 36,
      "outputs": [
        {
          "output_type": "display_data",
          "data": {
            "text/plain": [
              "<Figure size 800x600 with 1 Axes>"
            ],
            "image/png": "[encoded data removed]"
          },
          "metadata": {}
        }
      ]
    },
    {
      "cell_type": "code",
      "source": [
        "brother_vector = pca_result[word2id['brother']]\n",
        "sister_vector = pca_result[word2id['sister']]\n",
        "uncle_vector = pca_result[word2id['uncle']]\n",
        "aunt_vector = pca_result[word2id['aunt']]\n",
        "plt.figure(figsize=(8,6))\n",
        "\n",
        "plt.scatter(brother_vector[0], brother_vector[1], c='blue')\n",
        "plt.annotate('brother', (brother_vector[0], brother_vector[1]))\n",
        "plt.scatter(sister_vector[0], sister_vector[1], c='blue')\n",
        "plt.annotate('sister', (sister_vector[0], sister_vector[1]))\n",
        "\n",
        "plt.scatter(uncle_vector[0], uncle_vector[1], c='red')\n",
        "plt.annotate('uncle', (uncle_vector[0], uncle_vector[1]))\n",
        "plt.scatter(aunt_vector[0], aunt_vector[1], c='red')\n",
        "plt.annotate('aunt', (aunt_vector[0], aunt_vector[1]))\n",
        "\n",
        "plt.show()"
      ],
      "metadata": {
        "id": "sANjtBQvQwds",
        "colab": {
          "base_uri": "https://localhost:8080/",
          "height": 522
        },
        "outputId": "87e2acdf-e56f-4c54-910b-daf6610339ba"
      },
      "execution_count": 37,
      "outputs": [
        {
          "output_type": "display_data",
          "data": {
            "text/plain": [
              "<Figure size 800x600 with 1 Axes>"
            ],
            "image/png": "[encoded data removed]"
          },
          "metadata": {}
        }
      ]
    },
    {
      "cell_type": "code",
      "source": [
        "# Calculate difference vectors\n",
        "diff_vector_1 = brother_vector - sister_vector  # brother - sister\n",
        "diff_vector_2 = uncle_vector - aunt_vector  # uncle - aunt\n",
        "\n",
        "# Draw difference vectors\n",
        "plt.arrow(sister_vector[0], sister_vector[1], diff_vector_1[0], diff_vector_1[1], head_width=0.05, head_length=0.1, fc='blue', ec='blue')\n",
        "plt.arrow(aunt_vector[0], aunt_vector[1], diff_vector_2[0], diff_vector_2[1], head_width=0.05, head_length=0.1, fc='red', ec='red')\n",
        "\n",
        "plt.title('Word Embeddings Visualization with Difference Vectors')\n",
        "plt.xlabel('PCA Component 1')\n",
        "plt.ylabel('PCA Component 2')\n",
        "plt.grid(True)\n",
        "plt.show()"
      ],
      "metadata": {
        "id": "z373heqqRaPE",
        "colab": {
          "base_uri": "https://localhost:8080/",
          "height": 472
        },
        "outputId": "c7034b53-3c41-4a6c-c008-05ee356ebd10"
      },
      "execution_count": 38,
      "outputs": [
        {
          "output_type": "display_data",
          "data": {
            "text/plain": [
              "<Figure size 640x480 with 1 Axes>"
            ],
            "image/png": "[encoded data removed]"
          },
          "metadata": {}
        }
      ]
    },
    {
      "cell_type": "code",
      "source": [],
      "metadata": {
        "id": "f_BvS6DYDeiw"
      },
      "execution_count": null,
      "outputs": []
    }
  ]
}